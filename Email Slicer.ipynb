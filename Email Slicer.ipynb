{
 "cells": [
  {
   "cell_type": "code",
   "execution_count": 3,
   "id": "6c560543-f31c-4d6f-b289-08764a668b7b",
   "metadata": {},
   "outputs": [
    {
     "name": "stdin",
     "output_type": "stream",
     "text": [
      "Input your email address:  dher@gmail.com\n"
     ]
    },
    {
     "name": "stdout",
     "output_type": "stream",
     "text": [
      "Username :  dher\n",
      "Domain :  gmail\n",
      "Extension: com\n",
      "welcome to email slicer\n",
      "\n"
     ]
    }
   ],
   "source": [
    "# collect email from user\n",
    "# split the email using the@, the first part as the username, the second part is gonna be saved as domain\n",
    "# spli domain using .,\n",
    "\n",
    "def main():\n",
    "    print(\"welcome to email slicer\")\n",
    "    print(\"\")\n",
    "\n",
    "email_input = input(\"Input your email address: \")\n",
    "\n",
    "(username, domain) = email_input.split(\"@\")\n",
    "(domain, extension) = domain.split(\".\")\n",
    "\n",
    "print(\"Username : \", username)\n",
    "print(\"Domain : \", domain)\n",
    "print(\"Extension:\", extension)\n",
    "main()\n",
    "\n"
   ]
  },
  {
   "cell_type": "code",
   "execution_count": null,
   "id": "040af0bd-33a1-46b8-9c7b-5c46313f94f7",
   "metadata": {},
   "outputs": [],
   "source": []
  }
 ],
 "metadata": {
  "kernelspec": {
   "display_name": "Python 3 (ipykernel)",
   "language": "python",
   "name": "python3"
  },
  "language_info": {
   "codemirror_mode": {
    "name": "ipython",
    "version": 3
   },
   "file_extension": ".py",
   "mimetype": "text/x-python",
   "name": "python",
   "nbconvert_exporter": "python",
   "pygments_lexer": "ipython3",
   "version": "3.11.7"
  }
 },
 "nbformat": 4,
 "nbformat_minor": 5
}
